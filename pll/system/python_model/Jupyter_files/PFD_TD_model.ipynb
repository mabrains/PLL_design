{
  "nbformat": 4,
  "nbformat_minor": 0,
  "metadata": {
    "colab": {
      "provenance": []
    },
    "kernelspec": {
      "name": "python3",
      "display_name": "Python 3"
    },
    "language_info": {
      "name": "python"
    }
  },
  "cells": [
    {
      "cell_type": "code",
      "execution_count": 1,
      "metadata": {
        "id": "u5381qMqz1DD"
      },
      "outputs": [],
      "source": [
        "import math as m\n",
        "import matplotlib.pyplot as plt\n",
        "import numpy as np\n",
        "from scipy import signal"
      ]
    },
    {
      "cell_type": "code",
      "source": [
        "## ---- Time Domain model ----- "
      ],
      "metadata": {
        "id": "DNOibBbLz61N"
      },
      "execution_count": 2,
      "outputs": []
    },
    {
      "cell_type": "code",
      "source": [
        "fsampling = 100000000\n",
        "fref      = 10e6\n",
        "ipump     = 100e-6\n",
        "Kpd       = ipump/(2/m.pi); # phase detector gain\n",
        "VDD       = 1.8\n",
        "thresh    = 0.9"
      ],
      "metadata": {
        "id": "bE3Ke9xFz-OA"
      },
      "execution_count": 3,
      "outputs": []
    },
    {
      "cell_type": "code",
      "source": [
        "edgeA     =\"none\"\n",
        "edgeB     =\"none\"\n",
        "\n",
        "Ctrl_A    = 0\n",
        "Ctrl_B    = 0\n",
        "LEAD      = \"none\""
      ],
      "metadata": {
        "id": "4hO3bBTa0A4i"
      },
      "execution_count": 4,
      "outputs": []
    },
    {
      "cell_type": "code",
      "source": [
        "t           = np.linspace(0, 1, fsampling, endpoint=True)\n",
        "refcr       = 1.8*(signal.square(2 * np.pi * fref * t+(np.pi/2)))\n",
        "FB          = 1.8*(signal.square(2 * np.pi * fref * t))"
      ],
      "metadata": {
        "id": "vTvteqTB0BYu"
      },
      "execution_count": 5,
      "outputs": []
    },
    {
      "cell_type": "code",
      "source": [
        "UP_SIGNAL   = np.zeros(len(refcr))\n",
        "DOWN_SIGNAL = np.zeros(len(refcr))\n",
        "A_index     = 0\n",
        "B_index     = 0\n",
        "ctrl        = 0 "
      ],
      "metadata": {
        "id": "PmgWMcfj0Dqw"
      },
      "execution_count": 6,
      "outputs": []
    },
    {
      "cell_type": "code",
      "source": [
        "for i in range(len(refcr)):\n",
        "    if i == 0:\n",
        "        Before_RE_A = VDD\n",
        "        Before_RE_B = VDD\n",
        "        ctrl        = 1\n",
        "    else:\n",
        "        Before_RE_A     = refcr[i-1]\n",
        "        Before_RE_B     = FB[i-1]\n",
        "        Current_state_A = refcr[i]\n",
        "        Current_state_B = FB[i] \n",
        "\n",
        "    if Before_RE_A == -1.8 and Current_state_A == 1.8:\n",
        "        edgeA  = \"RISING_A\"\n",
        "        A_index= i\n",
        "\n",
        "    if Before_RE_B == -1.8 and Current_state_B == 1.8:\n",
        "        edgeB  = \"RISING_B\"\n",
        "        B_index= i\n",
        "\n",
        "    if LEAD == \"none\" and A_index>0 and B_index ==0:\n",
        "        LEAD   = \"UP\"\n",
        "        A_index= 0   \n",
        "        B_index= 0\n",
        "    elif LEAD == \"none\" and A_index==0 and B_index >0:\n",
        "        LEAD   = \"DOWN\"\n",
        "        A_index= 0   \n",
        "        B_index= 0\n",
        "\n",
        "    if (A_index > 0 and B_index > 0 and A_index<B_index):\n",
        "            LEAD   = \"UP\"\n",
        "            A_index= 0   \n",
        "            B_index= 0\n",
        "    elif (A_index > 0 and B_index > 0 and A_index>B_index):\n",
        "            LEAD   = \"DOWN\"\n",
        "            A_index= 0   \n",
        "            B_index= 0\n",
        "\n",
        "    if (edgeA == \"RISING_A\" and edgeB == \"RISING_B\") or (edgeA == \"none\" and edgeB == \"none\"):\n",
        "        State = \"Locked\"\n",
        "    elif edgeA == \"RISING_A\" and edgeB == \"none\" and LEAD==\"UP\":\n",
        "        State = \"UP\"\n",
        "    elif edgeA == \"none\" and edgeB == \"RISING_B\"  and LEAD==\"DOWN\":  \n",
        "        State = \"DOWN\" \n",
        "\n",
        "    if State==\"Locked\":\n",
        "        UP_SIGNAL[i]  = 0\n",
        "        DOWN_SIGNAL[i]= 0\n",
        "    elif State == \"UP\":\n",
        "        UP_SIGNAL[i]=VDD\n",
        "    elif State == \"DOWN\":\n",
        "        DOWN_SIGNAL[i]=VDD\n",
        "        \n",
        "    edgeA=\"none\"\n",
        "    edgeB=\"none\""
      ],
      "metadata": {
        "id": "DOognBtJ0Fhg"
      },
      "execution_count": 7,
      "outputs": []
    },
    {
      "cell_type": "code",
      "source": [
        "# Plot \n",
        "plt.figure(1)\n",
        "\n",
        "# Fref\n",
        "plt.subplot(4,1, 1)\n",
        "leg=plt.plot(t,refcr)\n",
        "plt.ylim(-2, 2)\n",
        "plt.xlim(0, 5/fref)\n",
        "plt.xlabel('Time (Sec)') \n",
        "plt.ylabel('Amplitude (V)') \n",
        "plt.title('REF Signal')\n",
        "# plt.legend(\"REF\")\n",
        "plt.grid(True)\n",
        "\n",
        "# Feedback Signal\n",
        "leg=plt.subplot(4, 1, 2)\n",
        "plt.plot(t,FB,color = \"Red\")\n",
        "plt.ylim(-2, 2)\n",
        "plt.xlim(0, 5/fref)\n",
        "plt.ylabel('Amplitude (V)') \n",
        "plt.title('Feedback Signal')\n",
        "# plt.legend(\"FB\")\n",
        "plt.grid(True)\n",
        "\n",
        "# UP Signal\n",
        "leg=plt.subplot(4, 1, 3)\n",
        "plt.plot(t,UP_SIGNAL,color = \"time\")\n",
        "plt.ylim(0, 2)\n",
        "plt.xlim(0, 5/fref)\n",
        "plt.ylabel('Amplitude (V)') \n",
        "plt.title('UP Signal')\n",
        "# plt.legend(\"UP\")\n",
        "plt.grid(True)\n",
        "\n",
        "# DOWN Signal\n",
        "leg=plt.subplot(4, 1, 4)\n",
        "plt.plot(t,DOWN_SIGNAL,color = \"deeppink\")\n",
        "plt.ylim(0, 2)\n",
        "plt.xlim(0, 5/fref)\n",
        "plt.ylabel('Amplitude (V)') \n",
        "plt.title('DOWN Signal')\n",
        "# plt.legend(\"UP\")\n",
        "plt.grid(True)\n",
        "\n",
        "# show the plot\n",
        "plt.suptitle(\"PFD\")\n",
        "plt.show()"
      ],
      "metadata": {
        "id": "iYfGDr0F0PnY"
      },
      "execution_count": null,
      "outputs": []
    },
    {
      "cell_type": "code",
      "source": [],
      "metadata": {
        "id": "YcaqmB0L0oxi"
      },
      "execution_count": null,
      "outputs": []
    }
  ]
}